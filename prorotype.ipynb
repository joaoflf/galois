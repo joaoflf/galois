{
 "cells": [
  {
   "cell_type": "code",
   "execution_count": 1,
   "metadata": {},
   "outputs": [],
   "source": [
    "from galois.database import Database"
   ]
  },
  {
   "cell_type": "code",
   "execution_count": 2,
   "metadata": {},
   "outputs": [],
   "source": [
    "db = Database(\"test\")\n",
    "db.create_collection(\"test\")\n",
    "test = db.get_collection(\"test\")\n",
    "\n",
    "test.insert_one({\"test\": \"test\"})"
   ]
  },
  {
   "cell_type": "code",
   "execution_count": 3,
   "metadata": {},
   "outputs": [
    {
     "name": "stdout",
     "output_type": "stream",
     "text": [
      "{'test': 'test', '_id': '64455af7524de951f4ee5adf'}\n"
     ]
    }
   ],
   "source": [
    "for doc in test:\n",
    "    print(test[doc])"
   ]
  }
 ],
 "metadata": {
  "kernelspec": {
   "display_name": "galois",
   "language": "python",
   "name": "python3"
  },
  "language_info": {
   "codemirror_mode": {
    "name": "ipython",
    "version": 3
   },
   "file_extension": ".py",
   "mimetype": "text/x-python",
   "name": "python",
   "nbconvert_exporter": "python",
   "pygments_lexer": "ipython3",
   "version": "3.10.9"
  },
  "orig_nbformat": 4
 },
 "nbformat": 4,
 "nbformat_minor": 2
}
