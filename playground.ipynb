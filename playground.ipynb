{
 "cells": [
  {
   "cell_type": "code",
   "execution_count": 1,
   "metadata": {},
   "outputs": [],
   "source": [
    "from galois.database import Database\n",
    "from galois.query_language import parse"
   ]
  },
  {
   "cell_type": "code",
   "execution_count": 2,
   "metadata": {},
   "outputs": [],
   "source": [
    "db = Database(\"test\")\n",
    "db.create_collection(\"test\")\n",
    "test = db.get_collection(\"test\")\n"
   ]
  },
  {
   "cell_type": "code",
   "execution_count": 3,
   "metadata": {},
   "outputs": [
    {
     "name": "stdout",
     "output_type": "stream",
     "text": [
      "AND: \n",
      "  OR: \n",
      "    =: \n",
      "      field: field1\n",
      "      value: 1\n",
      "    =: \n",
      "      field: field2\n",
      "      value: 2\n",
      "  NOT: \n",
      "    =: \n",
      "      field: field3\n",
      "      value: 3\n"
     ]
    }
   ],
   "source": [
    "node = parse(\"(AND (OR field1=1 field2=2) (NOT field3=3))\")\n",
    "\n",
    "def print_tree(node, indent=0):\n",
    "    print(\" \" * indent + node.type +\": \"+ (node.value if node.value else \"\"))\n",
    "    for child in node.children:\n",
    "        print_tree(child, indent + 2)\n",
    "\n",
    "print_tree(node)\n"
   ]
  }
 ],
 "metadata": {
  "kernelspec": {
   "display_name": "galois",
   "language": "python",
   "name": "python3"
  },
  "language_info": {
   "codemirror_mode": {
    "name": "ipython",
    "version": 3
   },
   "file_extension": ".py",
   "mimetype": "text/x-python",
   "name": "python",
   "nbconvert_exporter": "python",
   "pygments_lexer": "ipython3",
   "version": "3.10.10"
  },
  "orig_nbformat": 4
 },
 "nbformat": 4,
 "nbformat_minor": 2
}
