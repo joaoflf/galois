{
 "cells": [
  {
   "cell_type": "code",
   "execution_count": 1,
   "metadata": {},
   "outputs": [],
   "source": [
    "from galois.database import Database, Collection\n",
    "from galois.query_language import parse\n",
    "import pandas as pd\n",
    "import time\n",
    "import sortedcontainers"
   ]
  },
  {
   "cell_type": "code",
   "execution_count": 3,
   "metadata": {},
   "outputs": [],
   "source": [
    "db = Database(\"test\")\n",
    "collection = db.create_collection(\"test\")\n",
    "id = collection._insert_document({\"name\": \"John\", \"age\": 20})\n"
   ]
  },
  {
   "cell_type": "code",
   "execution_count": 4,
   "metadata": {},
   "outputs": [
    {
     "name": "stdout",
     "output_type": "stream",
     "text": [
      "{'name': 'John', 'age': 20, '_id': '646753583f4af54cc35569ca'}\n"
     ]
    }
   ],
   "source": [
    "print(collection._get_document(id))"
   ]
  },
  {
   "cell_type": "code",
   "execution_count": 2,
   "metadata": {},
   "outputs": [],
   "source": [
    "df = pd.read_csv(\"/home/bridge/Downloads/tracks.csv\")"
   ]
  },
  {
   "cell_type": "code",
   "execution_count": 3,
   "metadata": {},
   "outputs": [],
   "source": [
    "data = df[[\"artists\", \"name\", \"loudness\", \"duration_ms\",\"key\",\"tempo\"]]"
   ]
  },
  {
   "cell_type": "code",
   "execution_count": 8,
   "metadata": {},
   "outputs": [
    {
     "data": {
      "text/plain": [
       "586672"
      ]
     },
     "execution_count": 8,
     "metadata": {},
     "output_type": "execute_result"
    }
   ],
   "source": [
    "len(data)\n",
    "#data.head()"
   ]
  },
  {
   "cell_type": "code",
   "execution_count": 5,
   "metadata": {},
   "outputs": [],
   "source": [
    "db = Database(\"music\")"
   ]
  },
  {
   "cell_type": "code",
   "execution_count": 6,
   "metadata": {},
   "outputs": [
    {
     "name": "stdout",
     "output_type": "stream",
     "text": [
      "95.29119849205017\n"
     ]
    }
   ],
   "source": [
    "# measure time \n",
    "start = time.time()\n",
    "db.create_collection(\"tracks\")\n",
    "for i in range(len(data)):\n",
    "     db.get_collection(\"tracks\")._insert_document(data.iloc[i].to_dict())\n",
    "end = time.time()\n",
    "print(end - start)\n"
   ]
  },
  {
   "cell_type": "code",
   "execution_count": 7,
   "metadata": {},
   "outputs": [
    {
     "name": "stdout",
     "output_type": "stream",
     "text": [
      "15.457115411758423\n"
     ]
    }
   ],
   "source": [
    "\n",
    "start = time.time()\n",
    "db.get_collection(\"tracks\").find(\"(AND (NOT duration_ms=120000) (OR tempo<120 key>4))\")\n",
    "end = time.time()\n",
    "print(end - start)"
   ]
  }
 ],
 "metadata": {
  "kernelspec": {
   "display_name": "galois",
   "language": "python",
   "name": "python3"
  },
  "language_info": {
   "codemirror_mode": {
    "name": "ipython",
    "version": 3
   },
   "file_extension": ".py",
   "mimetype": "text/x-python",
   "name": "python",
   "nbconvert_exporter": "python",
   "pygments_lexer": "ipython3",
   "version": "3.10.10"
  },
  "orig_nbformat": 4
 },
 "nbformat": 4,
 "nbformat_minor": 2
}
